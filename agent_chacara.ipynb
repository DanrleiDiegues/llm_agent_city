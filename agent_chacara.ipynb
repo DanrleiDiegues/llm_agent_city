{
 "cells": [
  {
   "cell_type": "markdown",
   "metadata": {},
   "source": [
    "### Retrieval and Query Agent\n",
    "\n",
    "Goals: The end goal is to create a smart agent, that can retrieve and query data from a set of documents and spreadsheets, and reason about the data. \n",
    "\n",
    "1. Create a retrieval and query agent that can answer questions about a set of documents.\n",
    "2. Use the Gemini API to generate embeddings for the documents and queries.\n",
    "3. Use the ChromaDB to store the embeddings and query them.\n",
    "4. Use the Gemini API to generate a response to a query using the embeddings.\n",
    "5. Use the Gemini API to generate a response to a query from spreadsheets.\n",
    "6. Use the Gemini API to RAG.\n",
    "7. Reasoning with the Gemini API from a spreadsheet.\n",
    "\n"
   ]
  },
  {
   "cell_type": "markdown",
   "metadata": {},
   "source": [
    "Steps:\n",
    "\n",
    "- Can I store spreadsheet data in a vector database?\n",
    "- How can I store documents from different sources?\n",
    "- How much my Agent is able to answer questions about the data after training?\n"
   ]
  },
  {
   "cell_type": "code",
   "execution_count": 46,
   "metadata": {},
   "outputs": [],
   "source": [
    "import google.generativeai as genai\n",
    "from IPython.display import Markdown\n",
    "\n",
    "genai.configure(api_key=\"GOOGLE_API_KEY\")"
   ]
  },
  {
   "cell_type": "code",
   "execution_count": 47,
   "metadata": {},
   "outputs": [
    {
     "name": "stdout",
     "output_type": "stream",
     "text": [
      "models/embedding-001\n",
      "models/text-embedding-004\n"
     ]
    }
   ],
   "source": [
    "for model in genai.list_models():\n",
    "    if \"embedContent\" in model.supported_generation_methods:\n",
    "        print(model.name)"
   ]
  },
  {
   "cell_type": "markdown",
   "metadata": {},
   "source": [
    "### Create a baseline model"
   ]
  },
  {
   "cell_type": "code",
   "execution_count": 59,
   "metadata": {},
   "outputs": [
    {
     "name": "stdout",
     "output_type": "stream",
     "text": [
      "[parts {\n",
      "  text: \"Hello\"\n",
      "}\n",
      "role: \"user\"\n",
      ", parts {\n",
      "  text: \"Great to meet you. What would you like to know?\"\n",
      "}\n",
      "role: \"model\"\n",
      "]\n"
     ]
    }
   ],
   "source": [
    "# Initialize the Gemini model\n",
    "SYSTEM_MESSAGE = '''Você é um agente especializado em dar informações sobre a cidade Chácara em Minas Gerais.\n",
    "Você é um agente que responde sobre questões históricas, culturais e geografia. Além de dar informações relevantes que você tenha na sua base de dados que receber de nós, como horário de ônibus.\n",
    "Você não responderá questões que não sejam sobre chácara e caso alguém pergunte, você responderá educadamente que não pode dar estas informações.\n",
    "'''\n",
    "\n",
    "baseline_model = genai.GenerativeModel(\n",
    "    model_name=\"gemini-1.5-flash-latest\",\n",
    "    system_instruction=SYSTEM_MESSAGE\n",
    "    )\n",
    "\n",
    "# Start a chat\n",
    "chat = baseline_model.start_chat(\n",
    "    history=[\n",
    "        {\"role\": \"user\", \"parts\": \"Hello\"},\n",
    "        {\"role\": \"model\", \"parts\": \"Great to meet you. What would you like to know?\"},\n",
    "    ]\n",
    ")\n",
    "print(chat.history)"
   ]
  },
  {
   "cell_type": "markdown",
   "metadata": {},
   "source": [
    "### Test the Model - Section:\n",
    "\n",
    "Examples of queries:"
   ]
  },
  {
   "cell_type": "code",
   "execution_count": 5,
   "metadata": {},
   "outputs": [],
   "source": [
    "# Exemplos de perguntas:\n",
    "\n",
    "# Qual me fale sobre a história de chácara.\n",
    "#"
   ]
  },
  {
   "cell_type": "code",
   "execution_count": 49,
   "metadata": {},
   "outputs": [
    {
     "data": {
      "application/vnd.jupyter.widget-view+json": {
       "model_id": "d623dc91b7c24b89b4ec2d876d7fadf3",
       "version_major": 2,
       "version_minor": 0
      },
      "text/plain": [
       "Text(value='', layout=Layout(width='500px'), placeholder='Type your message here...')"
      ]
     },
     "metadata": {},
     "output_type": "display_data"
    },
    {
     "data": {
      "application/vnd.jupyter.widget-view+json": {
       "model_id": "267358e8bc9e485090303cccae08692e",
       "version_major": 2,
       "version_minor": 0
      },
      "text/plain": [
       "Button(description='Send', style=ButtonStyle())"
      ]
     },
     "metadata": {},
     "output_type": "display_data"
    },
    {
     "data": {
      "application/vnd.jupyter.widget-view+json": {
       "model_id": "367ec65ff6524060859489b4ba357725",
       "version_major": 2,
       "version_minor": 0
      },
      "text/plain": [
       "Output()"
      ]
     },
     "metadata": {},
     "output_type": "display_data"
    }
   ],
   "source": [
    "from ipywidgets import widgets\n",
    "from IPython.display import display, clear_output\n",
    "\n",
    "# Create widgets\n",
    "text_input = widgets.Text(\n",
    "    value='',\n",
    "    placeholder='Type your message here...',\n",
    "    description='',\n",
    "    layout={'width': '500px'}\n",
    ")\n",
    "send_button = widgets.Button(description=\"Send\")\n",
    "output_area = widgets.Output()\n",
    "\n",
    "# Chat history display\n",
    "def on_send_clicked(b):\n",
    "    with output_area:\n",
    "        print(chat.history)\n",
    "        clear_output()\n",
    "        response = chat.send_message(text_input.value)\n",
    "        print(f\"You: {text_input.value}\")\n",
    "        print(f\"Assistant: {response.text}\\n\")\n",
    "        text_input.value = ''  # Clear input\n",
    "\n",
    "send_button.on_click(on_send_clicked)\n",
    "\n",
    "# Display interface\n",
    "display(text_input, send_button, output_area)"
   ]
  },
  {
   "cell_type": "markdown",
   "metadata": {},
   "source": [
    "### Data"
   ]
  },
  {
   "cell_type": "code",
   "execution_count": 50,
   "metadata": {},
   "outputs": [],
   "source": [
    "import pandas as pd\n",
    "\n",
    "data = pd.read_csv(\"data/chácara_knowledge.csv\", \n",
    "                   encoding='latin1',\n",
    "                   sep=',',           # Specify the delimiter\n",
    "                   quotechar='\"',     # Specify quote character\n",
    "                   escapechar='\\\\',   # Handle escaped characters\n",
    "                   on_bad_lines='warn'  # or 'skip' to skip problematic rows\n",
    "                   )"
   ]
  },
  {
   "cell_type": "code",
   "execution_count": 51,
   "metadata": {},
   "outputs": [
    {
     "data": {
      "text/html": [
       "<div>\n",
       "<style scoped>\n",
       "    .dataframe tbody tr th:only-of-type {\n",
       "        vertical-align: middle;\n",
       "    }\n",
       "\n",
       "    .dataframe tbody tr th {\n",
       "        vertical-align: top;\n",
       "    }\n",
       "\n",
       "    .dataframe thead th {\n",
       "        text-align: right;\n",
       "    }\n",
       "</style>\n",
       "<table border=\"1\" class=\"dataframe\">\n",
       "  <thead>\n",
       "    <tr style=\"text-align: right;\">\n",
       "      <th></th>\n",
       "      <th>TÃ³pico</th>\n",
       "      <th>ConteÃºdo</th>\n",
       "    </tr>\n",
       "  </thead>\n",
       "  <tbody>\n",
       "    <tr>\n",
       "      <th>0</th>\n",
       "      <td>HistÃ³ria</td>\n",
       "      <td>ChÃ¡cara surgiu como povoado, em 1863, na faze...</td>\n",
       "    </tr>\n",
       "    <tr>\n",
       "      <th>1</th>\n",
       "      <td>InformaÃ§Ãµes</td>\n",
       "      <td>Aqui estÃ¡ o horÃ¡rio de Ã´nibus de Juiz de Fo...</td>\n",
       "    </tr>\n",
       "    <tr>\n",
       "      <th>2</th>\n",
       "      <td>Geografia</td>\n",
       "      <td>AspÃ©ctos Naturais\\n O ambiente natural de ChÃ...</td>\n",
       "    </tr>\n",
       "    <tr>\n",
       "      <th>3</th>\n",
       "      <td>Geografia</td>\n",
       "      <td>CaracterÃ­sticas\\n O municÃ­pio de ChÃ¡cara/M....</td>\n",
       "    </tr>\n",
       "    <tr>\n",
       "      <th>4</th>\n",
       "      <td>HistÃ³ria</td>\n",
       "      <td>Bandeira e BrasÃ£o\\n A Lei Municipal nÂº 188, ...</td>\n",
       "    </tr>\n",
       "    <tr>\n",
       "      <th>5</th>\n",
       "      <td>HistÃ³ria</td>\n",
       "      <td>TÃ­tulo: Te amo cidade querida!\\n \\n Autor: Se...</td>\n",
       "    </tr>\n",
       "  </tbody>\n",
       "</table>\n",
       "</div>"
      ],
      "text/plain": [
       "         TÃ³pico                                          ConteÃºdo\n",
       "0      HistÃ³ria  ChÃ¡cara surgiu como povoado, em 1863, na faze...\n",
       "1  InformaÃ§Ãµes  Aqui estÃ¡ o horÃ¡rio de Ã´nibus de Juiz de Fo...\n",
       "2      Geografia  AspÃ©ctos Naturais\\n O ambiente natural de ChÃ...\n",
       "3      Geografia  CaracterÃ­sticas\\n O municÃ­pio de ChÃ¡cara/M....\n",
       "4      HistÃ³ria  Bandeira e BrasÃ£o\\n A Lei Municipal nÂº 188, ...\n",
       "5      HistÃ³ria  TÃ­tulo: Te amo cidade querida!\\n \\n Autor: Se..."
      ]
     },
     "execution_count": 51,
     "metadata": {},
     "output_type": "execute_result"
    }
   ],
   "source": [
    "data.head(10)"
   ]
  },
  {
   "cell_type": "code",
   "execution_count": 52,
   "metadata": {},
   "outputs": [
    {
     "name": "stdout",
     "output_type": "stream",
     "text": [
      "Number of documents stored: 6\n"
     ]
    }
   ],
   "source": [
    "# Create a list to store all documents\n",
    "documents = []\n",
    "\n",
    "# Iterate through the DataFrame and append content to documents list\n",
    "for _, row in data.iterrows():\n",
    "    documents.append(row['ConteÃºdo'])  # Using the content column\n",
    "\n",
    "# Verify the documents (optional)\n",
    "print(f\"Number of documents stored: {len(documents)}\")"
   ]
  },
  {
   "cell_type": "code",
   "execution_count": 53,
   "metadata": {},
   "outputs": [
    {
     "data": {
      "text/plain": [
       "['ChÃ¡cara surgiu como povoado, em 1863, na fazenda da Cachoeira, de propriedade de Severino Dias Tostes. Ali foi passada no dia 10 de janeiro daquele ano, a escritura de doaÃ§Ã£o de cinco alqueires de terras, no valor de cento e cinqÃ¼enta contos de rÃ©is, feita por Iria Maria da Silva para a construÃ§Ã£o do PatrimÃ´nio da Capela de SÃ£o SebastiÃ£o. Serviu como escrivÃ£o no ato, o Senhor Francisco Delgado Pinto, assinando a rodo da doadora que nÃ£o sabia escrever, o cidadÃ£o AntÃ´nio JosÃ© Duque e, como testemunhas, os senhores AntÃ´nio Henrique Barbosa, Joaquim AntÃ´nio da Silva, AntÃ´nio JosÃ© Fonseca Sobrinho, Manoel AntÃ´nio da Fonseca, Romualdo Vieira e AcÃ¡cio da Costa Pinto. Ao redor da capela desenvolveu-se o povoado que, poucos anos depois, isto Ã©, em 1870, foi elevado Ã\\xa0 categoria de distrito de paz. E trÃªs anos mais tarde, foi criado o distrito policial. A lei nÂº 3276, de 30 de outubro de 1884, elevou o distrito Ã\\xa0 condiÃ§Ã£o de freguesia. A divisÃ£o administrativa do Estado, em 1962, criou o municÃ\\xadpio de ChÃ¡cara, que foi oficialmente instalada em 1Âº de marÃ§o de 1963. Anualmente em janeiro a cidade promove festa em homenagem ao padroeiro SÃ£o SebastiÃ£o, alÃ©m do carnaval, um dos maiores eventos culturais da cidade, mantendo a tradiÃ§Ã£o dos concurso dos mascarados, trazendo para a cidade nesta Ã©poca turistas de vÃ¡rias regiÃµes. E a ExposiÃ§Ã£o AgropecuÃ¡ria e o Torneio Leiteiro, geralmente no final do mÃªs de agosto, e reconhecido como um dos melhores rodeio da regiÃ£o. A histÃ³ria de ChÃ¡cara registra a presenÃ§a de importantes personalidades como CÃ¢ndido Teixeira Tostes, BarÃ£o de Catas Altas, Severino Dias Tostes, Teodorico Ribeiro de Assis, Dr. JosÃ© ProcÃ³pio Teixeira, Padre Leopoldo Caglianoni (primeiro vigÃ¡rio), Dr. JoÃ£o D`Avila, Cel Agenor Augusto Sampaio, CustÃ³dio Augusto de Resende e outros.',\n",
       " 'Aqui estÃ¡ o horÃ¡rio de Ã´nibus de Juiz de Fora para ChÃ¡cara:\\n De segunda a sexta:\\n Juiz de Fora para ChÃ¡cara\\n 06:20, 07:30, 10:00, 12:15, 13:30, 15:00, 16:15, 17:20, 18:30, 20:00, 22:45\\n \\n ChÃ¡cara para Juiz de Fora\\n 05:30, 06:30, 07:30, 09:00, 11:15, 13:15, 14:45, 16:00, 17:10, 18:30, 21:45\\n \\n SÃ¡bados:\\n Juiz de Fora para ChÃ¡cara\\n 07:30, 10:00, 12:15, 14:00, 16:00, 18:15, 20:00\\n \\n ChÃ¡cara para Juiz de Fora\\n 06:30, 09:00, 12:15, 14:00, 16:00, 17:10, 19:15\\n \\n Domingos e feriados:\\n Juiz de Fora para ChÃ¡cara\\n 07:30, 10:00, 12:15, 14:00, 16:00, 18:15, 20:00\\n \\n ChÃ¡cara para Juiz de Fora\\n 06:30, 09:00, 12:15, 14:00, 16:00, 17:10, 19:15, 21:00',\n",
       " 'AspÃ©ctos Naturais\\n O ambiente natural de ChÃ¡cara configura-se por territÃ³rio pertencente Ã\\xa0 bacia do rio ParaÃ\\xadba do Sul, caracterizado pela abundÃ¢ncia de recursos hÃ\\xaddricos. Mesmo com a sua cobertura vegetal bastante devastada a presenÃ§a de inÃºmeras nascentes merece destaque, em particular aquelas referentes ao rio CÃ¡gado. AtravÃ©s da lei municipal nÂ°597 de 4 de abril de 2003, o municÃ\\xadpio passou a integrar o ConsÃ³rcio Intermunicipal de recuperaÃ§Ã£o ambiental da Bacia do rio CÃ¡gado, uma organizaÃ§Ã£o cÃ\\xadvil.\\n O clima do municÃ\\xadpio de ChÃ¡cara pode ser classificado como tropical de altitude, caracterizado por dupla estacionalidade climÃ¡tica, com duas estaÃ§Ãµes anuais bem definidas com verÃµes chuvosos e invernos secos; a temperatura mÃ¡xima anual do municÃ\\xadpio Ã© em torno de 27,9Â° C e as mÃ\\xadnimas em torno de 15,3Â°C, sendo o indÃ\\xadce pluviomÃ©trico 1581mm/ano. O municÃ\\xadpio estÃ¡ inserido em um domÃ\\xadnio morfoclimÃ¡tico classificado por Abâ\\x80\\x99Saber como Mares de Morros, ou seja, o relevo local Ã© bastante irregular com o predomÃ\\xadnio do relevo montanhoso (66%), seguido do relevo ondulado (28%) com pouquissÃ\\xadmas Ã¡reas planas (apenas 6%).\\n ChÃ¡cara abriga remanescentes do bioma Mata AtlÃ¢ntica, mesmo com a sua cobertura vegetal bastante devastada, como jÃ¡ dito. Este bioma, atualmente um dos mais ameaÃ§ados de extinÃ§Ã£o, Ã© protegido pelo decreto federal nÂ°750 de 10 de fevereiro de 1993. Embora extremamente degrado apresenta alto grau de endemismo, daÃ\\xad a grande importÃ¢ncia da preservaÃ§Ã£o dos resquicÃ\\xados do bioma. O desmatamento generalizado das coberturas florestais nos conduz ao processo histÃ³rico de colonizaÃ§Ã£o da Zona da Mata, especialmente a partir do sÃ©culo XIX, devido Ã\\xa0 implantaÃ§Ã£o da cafeicultura e, em seguida, da pecuÃ¡ria extensiva. Os resquÃ\\xadcios isolados da Floresta AtlÃ¢ntica encontram-se em diversos nÃ\\xadveis de degradaÃ§Ã£o, e suas bordas sÃ£o, freqÃ¼entemente, afetadas pelo desmatamento e por queimadas e cortes. Os fragmentos florestais remanescentes estÃ£o envoltos por extensos campos de gramÃ\\xadneas, cobertura vegetal mais abrangente da regiÃ£o, utilizados como pastagem para gado. Essas gramÃ\\xadneas sÃ£o comumente mantidas por queima periÃ³dica, anual. Observa-se que muitas Ã¡reas de pastagens estÃ£o abandonadas e vÃªm sendo re-colonizadas por vegetaÃ§Ã£o arbustiva, a qual pode evoluir para pequenas matas secundÃ¡rias (capoeiras). Em relaÃ§Ã£o Ã\\xa0s coberturas vegetais antrÃ³picas, alÃ©m das pastagens, ocorrem diversos tipos de cultivos agrÃ\\xadcolas e bosques de reflorestamento comercial que utilizam, principalmente espÃ©cies de eucaliptos e de pinus. Os campos antrÃ³picos de modo geral, e particularmente aqueles formados por capim gordura (Melinis minutiflora), sob um clima estacional (mais de 60 dias secos) e mantidos pelo fogo anual, poderÃ£o estar hoje diante de um processo de degradaÃ§Ã£o dos solos e caminhando para a â\\x80\\x9csavanizaÃ§Ã£o antrÃ³picaâ\\x80\\x9d (onde a regeneraÃ§Ã£o, certamente, nÃ£o possa mais fazerse naturalmente, mas, apenas, atravÃ©s do replantio de espÃ©cies adaptadas ao ambiente). A alternÃ¢ncia de um perÃ\\xadodo seco prolongado com um perÃ\\xadodo de chuvas intensas e calor sobre um solo pouco protegido impÃµe a estes solos um processo acelerado de erosÃ£o e lixiviaÃ§Ã£o, com rÃ¡pida alteraÃ§Ã£o de suas caracterÃ\\xadsticas. As Ã¡reas mais preservadas no municÃ\\xadpio consistem em Ã¡reas de declividades altas, de difÃ\\xadcil ocupaÃ§Ã£o, estas localizadas a nordeste do municÃ\\xadpio, na regiÃ£o de SÃ£o JosÃ© do CÃ¡gado, Boa Vista e Desengano. TambÃ©m a sudoeste, na divisa com o municÃ\\xadpio de Juiz de Fora, estende-se ampla cobertura remanescente, nas terras da Fazenda Floresta. Preponderam na zona rural do municÃ\\xadpio extensas Ã¡reas de pastagem, enquanto na zona urbana cerca de 30% apenas Ã© caracterizada pela presenÃ§a de matas. Vale mencionar que o perÃ\\xadmetro urbano caracteriza-se por apenas 30% de ocupaÃ§Ãµes em termos de conjuntos edificados com preponderÃ¢ncia de Ã¡reas rurais.\\n A Ã¡rea da Zona da Mata Mineira situa-se no domÃ\\xadnio central do planalto da Serra da Mantiqueira, apresentando altitude mÃ©dia de 600 m. As cotas mais baixas apresentam cerca de 240 m, e as cotas mais altas atingem em torno de 1100 m. Esta porÃ§Ã£o do Planalto da Mantiqueira possui um relevo constituÃ\\xaddo por pequenas serras alongadas na direÃ§Ã£o nordeste, que possuem segmentos de encostas Ã\\xadngremes, alÃ©m de extensos domÃ\\xadnios de colinas convexas de baixa amplitude altimÃ©trica e encostas mais suaves. Ainda no tocante ao Planalto da Mantiqueira, este apresenta um espesso manto de alteraÃ§Ã£o intempÃ©rica, ao qual associam-se vÃ¡rias ocorrÃªncias minerais de origem supergÃªnica (bauxita, caulim, saibro). O relevo de colinas, com espessa cobertura coluvial, representa as porÃ§Ãµes mais dissecadas do Planalto. Destaca-se no municÃ\\xadpio a dinÃ¢mica resultante da dissecaÃ§Ã£o de encostas por processos areolares que acompanham o entalhe da drenagem fluvial. A classificaÃ§Ã£o da dissecaÃ§Ã£o, baseada no aprofundamento das incisÃµes de drenagem no municÃ\\xadpio Ã© avaliada como fraca a moderada.\\n Nos vales fluviais da Bacia do Rio ParaÃ\\xadba do Sul temos a morfologia de fundo encaixado, onde Ã© comum a presenÃ§a de corredeiras e cachoeiras, ou de fundos aplainados, onde ocorrem os alvÃ©olos sedimentares. Estes alvÃ©olos estÃ£o relacionados Ã\\xa0 sedimentaÃ§Ã£o, de idade quaternÃ¡ria, das planÃ\\xadcies de inundaÃ§Ã£o e terraÃ§os fluviais, que se interdigitam com a base das rampas coluviais. Destacam-se, como principais alvÃ©olos sedimentares, os depÃ³sitos do alto curso do Rio Paraibuna, de direÃ§Ã£o noroeste, do CÃ³rrego SÃ£o Pedro e RibeirÃ£o Divino EspÃ\\xadrito Santo, em segmentos do Rio CÃ¡gado, alÃ©m dos diversos alvÃ©olos de direÃ§Ã£o nordeste situados entre Bicas, SÃ£o JoÃ£o Nepomuceno, GoianÃ¡, Rio Novo, Santana e Vargem Grande, entre outros. Os solos do municÃ\\xadpio estÃ£o classificados em: Latossolo Vermelho-Amarelo Ã¡lico, Latossolo Vermelho-Amarelo distrÃ³fico, Podzolico Vermelho-Amarelo Ã¡lico e Podzolico Vermelho-Amarelo distrÃ³fico e o Cambissolo Ã¡lico. Quanto ao Latossolo Vermelho Amarelo compreende solos minerais, nÃ£o hidromÃ³rficos com horizonte B latossÃ³lico, apresentando relaÃ§Ã£o molecular KI baixa, inferior a 1,9 de coloraÃ§Ã£o variando do vermelho ao amarelo e gamas intermediarias. SÃ£o normalmente muito profundos ou profundos, com seqÃ¼Ãªncias de horizontes A, B e C e com transiÃ§Ãµes entre difusas e graduais, acentuadamente a bem drenados. Em sua maior parte estes solos da Ã¡rea sÃ£o Ã¡licos, ou seja, com percentagem de saturaÃ§Ã£o com alumÃ\\xadnio superior a 50%, atingindo atÃ© valores prÃ³ximos a 95%. Os solos distrÃ³ficos, com saturaÃ§Ã£o de bases inferior a 50%, ocupam tambÃ©m posiÃ§Ã£o de importÃ¢ncia na Ã¡rea, enquanto os eutrÃ³ficos nÃ£o foram identificados. Apresentam avanÃ§ado estÃ¡gio de intemperismo, com predominÃ¢ncia de minerais de argila do tipo 1: 1, baixa quantidade de minerais primÃ¡rios e baixa reserva de elementos nutritivos para as plantas. Estes solos, apesar do relevo bem movimentado que possuem, sÃ£o bastante utilizados com pastagens, culturas de cafÃ© e milho. JÃ¡ o Podzolico Vermelho-Amarelo compreende solos minerais com horizonte B textural, nÃ£o hidromÃ³rficos, normalmente com argila de atividade baixa (Tb), usuamente profundos, com seqÃ¼Ãªncia de horizontes A, B e C e sÃ£o bem a moderadamente drenados. Estes solos apresentam horizonte A moderado.A textura do horizonte A Ã© mÃ©dia a muito argilosa, enquanto a do horizonte B Ã© franco-arenosa ou mais fina, ocorrendo inclusive solos com mudanÃ§a textural abrupta. Com relaÃ§Ã£o Ã\\xa0 saturaÃ§Ã£o de bases, encontramos na Ã¡rea, pela ordem de extensÃ£o geogrÃ¡fica que ocupam, solos Ã¡licos (saturaÃ§Ã£o co alumÃ\\xadnio maior 50%) e distrÃ³ficos(saturaÃ§Ã£o com alumÃ\\xadnio menor 50%). EstÃ£o situados em Ã¡reas de relevo predominante forte ondulado,ocorrendo tambÃ©m em menor proporÃ§Ã£o o relevo montanhoso. Com relaÃ§Ã£o ao Cambissolo Ã¡lico, compreende solos minerais com horizonte B cÃ¢mbico ou incipiente, nÃ£o hidromÃ³rficos e com pouca diferenciaÃ§Ã£o de textura do horizonte A para o horizonte B. SÃ£o solos com certo grau de evoluÃ§Ã£o, porÃ©m nÃ£o suficiente para meteorizar completamente minerais primÃ¡rios de fÃ¡cil intemperizaÃ§Ã£o como feldspatos, micas e outros, nÃ£o possuem acumulaÃ§Ã£o significativa de Ã³xidos de ferro, hÃºmus e argilas. Apresentam seqÃ¼Ãªncia de horizontes A, B e C, ocorrendo com mais freqÃ¼Ãªncia o tipo de horizonte A moderado. Possuem textura mÃ©dia ou argilosa, sÃ£o bem a moderadamente drenados e rasos a profundos. SÃ£o Ã¡licos, com saturaÃ§Ã£o com alumÃ\\xadnio maior que 50%. Ocorrem nas regiÃµes serranas em relevo montanhoso e escarpado e nos planaltos em relevo menos movimentado, forte ondulado. De um modo geral, estes solos nÃ£o sÃ£o utilizados agricolamente, apresentando como fatores limitantes ora o relevo acentuado ora o excesso de alumÃ\\xadnio. Como uso mais adequado recomendam-se pecuÃ¡ria extensiva e reflorestamento ou ainda como Ã¡reas para preservaÃ§Ã£o de ambientes ecolÃ³gicos.',\n",
       " 'CaracterÃ\\xadsticas\\n O municÃ\\xadpio de ChÃ¡cara/M.G. localiza-se no sudeste da Zona da Mata Mineira, na MicroregiÃ£o de Juiz de Fora, sendo o centro urbano localizado em um vale recortado pelo cÃ³rrego SÃ£o SebastiÃ£o, cuja denominaÃ§Ã£o nos remete ao padroeiro deste municÃ\\xadpio. A localizaÃ§Ã£o geogrÃ¡fica da sede municipal, a 21Â° 40â\\x80\\x99 19â\\x80\\x9d S e 43Â° 13â\\x80\\x99 19â\\x80\\x9d O, a aproximadamente 15 quilÃ´metros de Juiz de Fora, Ã© privilegiada em relaÃ§Ã£o a importantes capitais como o Rio de Janeiro e Belo Horizonte, alÃ©m de outros centros urbanos como Coronel Pacheco/M.G. e GoianÃ¡/M.G.. Com Ã¡rea de 152,88 quilÃ´metros quadrados e altitudes que variam entre 639 metros na foz do CÃ³rrego Ã\\x81gua Limpa e 1023 metros na nascente do RibeirÃ£o das Rosas, ChÃ¡cara tem como municÃ\\xadpios limÃ\\xadtrofes: Goiana ao norte, Coronel Pacheco a noroeste, Juiz de Fora a oeste, Bicas a sudeste e SÃ£o JoÃ£o Nepomuceno a nordeste. O municÃ\\xadpio Ã© um dos integrantes da AssociaÃ§Ã£o dos MunicÃ\\xadpios da Micro-RegiÃ£o do Vale do Paraibuna â\\x80\\x93 AMPAR, com os acessos rodoviÃ¡rios feitos pelas rodovias estadual MG-353 e federal BR-040, ambas a partir de Juiz de Fora, alÃ©m de itinerÃ¡rios atravÃ©s de estradas municipais, inclusive com ligaÃ§Ã£o direta atÃ© a BR-267.\\n A populaÃ§Ã£o de ChÃ¡cara, Ã© de 2.792 habitantes, de acordo com o I.B.G.E., senso de 2010, sendo que destes, 1.903 moram na Zona Urbana e 889 moram na Zona Rural. JÃ¡ a populaÃ§Ã£o residente por sexo Ã© em maior nÃºmero masculina, 1.410 homens e 1.382 mulheres. Ainda de acordo com o censo de 2010, quando ao Ã\\x8dndice de Desenvolvimento Humano Municipal (IDH-M), este equivale ao de MunicÃ\\xadpios com IDH mÃ©dio, ou seja, com um IDH igual a 0,664. Dentre os fatores que contribuÃ\\xadram para este Ã\\xadndice, a educaÃ§Ã£o Ã© destaque passando o IDH-M em 2000 de 0,373 para IDH-M em 2010 de 0,512.\\n Como em outros municÃ\\xadpios da regiÃ£o, na atualidade, as proporÃ§Ãµes e a dinÃ¢mica da populaÃ§Ã£o urbana e rural sÃ£o muito diferentes, com decrÃ©scimo acentuado desta Ãºltima, particularmente a partir dos anos 70. Acrescido a este fato, vale mencionar que, nos Ãºltimos anos, o municÃ\\xadpio teve uma progressiva reduÃ§Ã£o populacional como ressaltado inicialmente. Entretanto, novos empreendimentos como o Colorado, que inserem uma dinÃ¢mica urbanizada no contexto rural, mesmo sem a dotaÃ§Ã£o de infraestruturas, pode ser um componente atrativo para populaÃ§Ãµes.\\n A organizaÃ§Ã£o polÃ\\xadtico-administrativa do MunicÃ\\xadpio compÃµe-se da Sede Municipal caracterizada pelo centro urbano concentrado, numa posiÃ§Ã£o relativamente central, como mencionado e oito regiÃµes com lugarejos. Ao norte, temos SÃ£o JosÃ© do CÃ¡gado e Tabocas; a noroeste SÃ£o Fidelis, Santana e outros lugarejos como Ã\\x81gua Limpa, Barra, Boa Vista, Durandet, Pinheiros; a leste Campo Belo, ao sul, Morro Vermelho, a sudoeste ChÃ£o Frio (Marmelo) com os lugarejos de Sossego e Vargem Alegre, a oeste, Mato Virgem com os lugarejos de Araras, Aracaju e Roncador. Estas regiÃµes nÃ£o possuem perÃ\\xadmetro delimitado e o fato de cada uma destas ter possuÃ\\xaddo escolas estaduais contribuiu para a regionalizaÃ§Ã£o da Ã¡rea rural. O perÃ\\xadmetro urbano conforme utilizado pelo Censo 2000 foi delimitado da seguinte forma â\\x80\\x9c...do ponto inicial segue pela rua Nicolau Falci, rua JosÃ© GonÃ§alves Pinto, rua Antonio Duque, rua Coronel Onofre Augusto de Paula, estrada para SÃ£o JoÃ£o Nepomuceno, sobre a encosta passando pelos fundos dos lotes das ruas JosÃ© Portes da Silva e Antonio Pereira da Silva (ambas inclusive), atravessa a estrada para SÃ£o Fidelis continua em reta atÃ© um ponto fronteirro ao canteiro direito do campo de futebol (inclusive), segue por outra reta, formando um Ã¢ngulo de 90Â° atÃ© o inÃ\\xadcio da rua Coronel Onofre Augusto de Paula, segue por esta atÃ© o ponto inicial.â\\x80\\x9d Este perÃ\\xadmetro foi alterado, tendo sido redefinido a partir de marco na praÃ§a central com raio de dois quilÃ´metros abrangendo o atual perÃ\\xadmetro urbano.',\n",
       " 'Bandeira e BrasÃ£o\\n A Lei Municipal nÂº 188, de 05 de setembro de 1980, criou o BrasÃ£o e a Bandeira do MunicÃ\\xadpio de ChÃ¡cara com as caracterÃ\\xadsticas prÃ³prias do MunicÃ\\xadpio. Leia o texto abaixo na Ã\\xadntegra e entenda o significado de cada simbologia do BrasÃ£o e da Bandeira do MunicÃ\\xadpio de ChÃ¡cara.\\n \\n Lei nÂº 188, de 05 de setembro de 1980\\n \\n â\\x80\\x9cCria o BrasÃ£o e a Bandeira do MunicÃ\\xadpio de ChÃ¡caraâ\\x80\\x9d.\\n \\n A CÃ¢mara Municipal de ChÃ¡cara, por seus Vereadores DECRETOU e eu, Prefeito do MunicÃ\\xadpio de ChÃ¡cara, sanciona a seguinte Lei:\\n \\n Art. 1Âº - Ficam criados o BrasÃ£o e a Bandeiraâ\\x80\\x9d do MunicÃ\\xadpio de ChÃ¡cara, Estado de Minas Gerais.\\n \\n Art. 2Âº - Fica o Senhor Prefeito Municipal, autorizado a mandar confeccionar o â\\x80\\x9cBrasÃ£o e a Bandeiraâ\\x80\\x9d do MunicÃ\\xadpio de ChÃ¡cara, Estado de Minas Gerais, em quantos nÃºmeros se fizer necessÃ¡rias.\\n \\n ParÃ¡grafo Ã\\x9anico: DeverÃ£o constar no BrasÃ£o os seguintes sÃ\\xadmbolos:\\n \\n 1Âº - CÃ´roa Moral de Argente (Prata) de quatro Torres;\\n \\n 2Âº - Escudo FrancÃªs nos esmaltes e metais â\\x80\\x93 azul â\\x80\\x93 vermelho â\\x80\\x93 prata - ouro (argente e falde), dividido em quartÃ©is, tendo no primeiro quartel:\\n \\n a) Esfera armilar manoelina com 03 (trÃªs) FLEXAS que suplicaram SÃ£o SebastiÃ£o, Padroeiro da Cidade;\\n \\n b) Barreto Representativo da RepÃºblica â\\x80\\x93 Democracia;\\n \\n c) No segundo quartel, CorÃ´a de BarÃ£o, lembrando o BarÃ£o do Retiro, vulto Ilustre de grande influÃªncia na regiÃ£o, Ã\\xa0 baixo da CorÃ´a Escudeto com lisonja - â\\x80\\x9cPeÃ§a feminina que lembra DÂª. Iria, (doadora do terreno onde estÃ¡ construÃ\\xadda a cidade);\\n \\n d) No terceiro quartel - Montanhas cristalizadas representando uma das riquezas da nossa terra;\\n \\n e) Faixa ondeada em Argente Prata, representando o Rio do CÃ¡gado que nasce neste MunicÃ\\xadpio de ChÃ¡cara;\\n \\n f) No quarto quartel - uma cabeÃ§a de gado representando nossa pecuÃ¡ria. E um arado representando nossa agricultura;\\n \\n g) Nas laterais ramas de cafÃ© ao natural;\\n \\n h) Listel em argente (prata) com o topÃ´nimo e data de EmancipaÃ§Ã£o do MunicÃ\\xadpio;\\n \\n A Bandeira terÃ¡ forma de PendÃ£o da cor branca, simbolizando povos e cidades; suas cores deverÃ£o ser branca e vermelho as mesmas cores da Bandeira do Estado de Minas Gerais, sendo o branco sÃ\\xadmbolo universal da Paz e o vermelho coragem e intrepidez Ã\\xa0 luta pelo desenvolvimento do MunicÃ\\xadpio.\\n \\n Art. 3Âº - As despesas decorrentes desta Lei correrÃ£o pode conta de dotaÃ§Ãµes do OrÃ§amento vigente.\\n \\n Art. 4Âº - Revogadas as disposiÃ§Ãµes em contrÃ¡rio, esta Lei entrarÃ¡ em vigor na data de sua publicaÃ§Ã£o.\\n \\n Prefeitura Municipal de ChÃ¡cara, 05 de setembro de 1980.\\n \\n Ass. Francisco de Almeida Bessa â\\x80\\x93 Prefeito Municipal\\n \\n Maria Aparecida Mostaro Terra - SecretÃ¡ria',\n",
       " 'TÃ\\xadtulo: Te amo cidade querida!\\n \\n Autor: SebastiÃ£o Fonseca de Paula\\n Lei nÂ° 747 de 29/12/2008\\n \\n \\n Cumprimento-te ChÃ¡cara amada,\\n o seu povo querido e viril.\\n NÃ£o te troco no Mundo por nada.\\n Tu Ã©s grandeza do meu Brasil!\\n \\n Deus te deu a beleza e a fama,\\n e o povo se encanta ao te ver.\\n Ao sentir tua voz que me chama,\\n juro que sinto por tÃ\\xad, um prazer!\\n \\n Tu tens Matas! Tu tens Cachoeiras!\\n Tu tens belezas para admirar!\\n Tu tens morenas lindas faceiras!\\n Que faz nosso povo invejar. (refrÃ£o)\\n \\n A natureza bordou de verdade,\\n sua beleza de um belo esplendor.\\n Quem te deixa sÃ³ sente saudade.\\n Quem te busca sÃ³ morre de amor.\\n Se eu morrer e tiver outra vida,\\n pra ChÃ¡cara, eu quero voltar.\\n \\n Eu te amo Cidade querida!\\n Quero pra sempre, contigo ficar.\\n Tu tens Matas! Tu tens Cachoeiras!\\n Tu tens belezas para admirar!\\n Tu tens morenas lindas faceiras!\\n Que faz nosso povo invejar. (Bis)']"
      ]
     },
     "execution_count": 53,
     "metadata": {},
     "output_type": "execute_result"
    }
   ],
   "source": [
    "documents"
   ]
  },
  {
   "cell_type": "code",
   "execution_count": 54,
   "metadata": {},
   "outputs": [],
   "source": [
    "from chromadb import Documents, EmbeddingFunction, Embeddings\n",
    "from google.api_core import retry\n",
    "\n",
    "class GeminiEmbeddingFunction(EmbeddingFunction): # This is a custom embedding function that uses the Gemini API to generate embeddings.\n",
    "    # Specify whether to generate embeddings for documents, or queries\n",
    "    document_mode = True\n",
    "\n",
    "    def __call__(self, input: Documents) -> Embeddings: # This is the function that generates the embeddings.\n",
    "        if self.document_mode:\n",
    "            embedding_task = \"retrieval_document\"  # This is the task that will be used to generate the embeddings.\n",
    "        else:\n",
    "            embedding_task = \"retrieval_query\"  # This is the task that will be used to generate the embeddings.\n",
    "\n",
    "        retry_policy = {\"retry\": retry.Retry(predicate=retry.if_transient_error)}\n",
    "\n",
    "        response = genai.embed_content(\n",
    "            model=\"models/text-embedding-004\",\n",
    "            content=input,\n",
    "            task_type=embedding_task,\n",
    "            request_options=retry_policy,\n",
    "        )\n",
    "        \n",
    "        return response[\"embedding\"]\n"
   ]
  },
  {
   "cell_type": "code",
   "execution_count": 55,
   "metadata": {},
   "outputs": [],
   "source": [
    "import chromadb\n",
    "\n",
    "DB_NAME = \"characadb\"\n",
    "embed_fn = GeminiEmbeddingFunction() # This is the embedding function that will be used to generate the embeddings.\n",
    "\n",
    "embed_fn.document_mode = True # This is the mode that will be used to generate the embeddings.\n",
    "\n",
    "chroma_client = chromadb.Client() # This is the client that will be used to interact with the ChromaDB.\n",
    "db = chroma_client.get_or_create_collection(name=DB_NAME, embedding_function=embed_fn) # This is the collection that will be used to store the embeddings.\n",
    "\n",
    "db.add(documents=documents, ids=[str(i) for i in range(len(documents))]) # This is the function that will be used to add the documents to the collection."
   ]
  },
  {
   "cell_type": "code",
   "execution_count": 56,
   "metadata": {},
   "outputs": [
    {
     "data": {
      "text/plain": [
       "6"
      ]
     },
     "execution_count": 56,
     "metadata": {},
     "output_type": "execute_result"
    }
   ],
   "source": [
    "db.count()"
   ]
  },
  {
   "cell_type": "markdown",
   "metadata": {},
   "source": [
    "### Pesquise sobre Informações de Chácara:"
   ]
  },
  {
   "cell_type": "code",
   "execution_count": 57,
   "metadata": {},
   "outputs": [
    {
     "data": {
      "text/markdown": [
       "ChÃ¡cara surgiu como povoado, em 1863, na fazenda da Cachoeira, de propriedade de Severino Dias Tostes. Ali foi passada no dia 10 de janeiro daquele ano, a escritura de doaÃ§Ã£o de cinco alqueires de terras, no valor de cento e cinqÃ¼enta contos de rÃ©is, feita por Iria Maria da Silva para a construÃ§Ã£o do PatrimÃ´nio da Capela de SÃ£o SebastiÃ£o. Serviu como escrivÃ£o no ato, o Senhor Francisco Delgado Pinto, assinando a rodo da doadora que nÃ£o sabia escrever, o cidadÃ£o AntÃ´nio JosÃ© Duque e, como testemunhas, os senhores AntÃ´nio Henrique Barbosa, Joaquim AntÃ´nio da Silva, AntÃ´nio JosÃ© Fonseca Sobrinho, Manoel AntÃ´nio da Fonseca, Romualdo Vieira e AcÃ¡cio da Costa Pinto. Ao redor da capela desenvolveu-se o povoado que, poucos anos depois, isto Ã©, em 1870, foi elevado Ã  categoria de distrito de paz. E trÃªs anos mais tarde, foi criado o distrito policial. A lei nÂº 3276, de 30 de outubro de 1884, elevou o distrito Ã  condiÃ§Ã£o de freguesia. A divisÃ£o administrativa do Estado, em 1962, criou o municÃ­pio de ChÃ¡cara, que foi oficialmente instalada em 1Âº de marÃ§o de 1963. Anualmente em janeiro a cidade promove festa em homenagem ao padroeiro SÃ£o SebastiÃ£o, alÃ©m do carnaval, um dos maiores eventos culturais da cidade, mantendo a tradiÃ§Ã£o dos concurso dos mascarados, trazendo para a cidade nesta Ã©poca turistas de vÃ¡rias regiÃµes. E a ExposiÃ§Ã£o AgropecuÃ¡ria e o Torneio Leiteiro, geralmente no final do mÃªs de agosto, e reconhecido como um dos melhores rodeio da regiÃ£o. A histÃ³ria de ChÃ¡cara registra a presenÃ§a de importantes personalidades como CÃ¢ndido Teixeira Tostes, BarÃ£o de Catas Altas, Severino Dias Tostes, Teodorico Ribeiro de Assis, Dr. JosÃ© ProcÃ³pio Teixeira, Padre Leopoldo Caglianoni (primeiro vigÃ¡rio), Dr. JoÃ£o D`Avila, Cel Agenor Augusto Sampaio, CustÃ³dio Augusto de Resende e outros."
      ],
      "text/plain": [
       "<IPython.core.display.Markdown object>"
      ]
     },
     "execution_count": 57,
     "metadata": {},
     "output_type": "execute_result"
    }
   ],
   "source": [
    "# Switch to query mode when generating embeddings.\n",
    "embed_fn.document_mode = False\n",
    "\n",
    "# Search the Chroma DB using the specified query.\n",
    "query = \"Me fale sobre a história de Chácara\"\n",
    "\n",
    "result = db.query(query_texts=[query], n_results=1) # This is the function that will be used to search the ChromaDB.\n",
    "[[passage]] = result[\"documents\"] # This is the passage that will be used to answer the question.\n",
    "\n",
    "Markdown(passage) # This is the function that will be used to display the passage."
   ]
  },
  {
   "cell_type": "code",
   "execution_count": 58,
   "metadata": {},
   "outputs": [
    {
     "name": "stdout",
     "output_type": "stream",
     "text": [
      "[parts {\n",
      "  text: \"Hello\"\n",
      "}\n",
      "role: \"user\"\n",
      ", parts {\n",
      "  text: \"Great to meet you. What would you like to know?\"\n",
      "}\n",
      "role: \"model\"\n",
      "]\n"
     ]
    }
   ],
   "source": [
    "# Initialize the Gemini model\n",
    "SYSTEM_MESSAGE = '''Você é um agente especializado em dar informações sobre a cidade Chácara em Minas Gerais.\n",
    "Você é um agente que responde sobre questões históricas, culturais e geografia. Além de dar informações relevantes que você tenha na sua base de dados que receber de nós, como horário de ônibus.\n",
    "Você não responderá questões que não sejam sobre chácara e caso alguém pergunte, você responderá educadamente que não pode dar estas informações.\n",
    "'''\n",
    "\n",
    "# model_id = f\"chacara-model-{random.randint(10000, 99999)}\" # model id\n",
    "\n",
    "chacara_model = genai.GenerativeModel(\n",
    "    model_name=\"gemini-1.5-flash-latest\",\n",
    "    system_instruction=SYSTEM_MESSAGE\n",
    "    )\n",
    "\n",
    "# Start a chat\n",
    "chat = chacara_model.start_chat(\n",
    "    history=[\n",
    "        {\"role\": \"user\", \"parts\": \"Hello\"},\n",
    "        {\"role\": \"model\", \"parts\": \"Great to meet you. What would you like to know?\"},\n",
    "    ]\n",
    ")\n",
    "print(chat.history)"
   ]
  },
  {
   "cell_type": "code",
   "execution_count": 62,
   "metadata": {},
   "outputs": [
    {
     "data": {
      "application/vnd.jupyter.widget-view+json": {
       "model_id": "6c3cc56d6e1f489e99a2180e1530a37c",
       "version_major": 2,
       "version_minor": 0
      },
      "text/plain": [
       "Text(value='', layout=Layout(width='500px'), placeholder='Type your message here...')"
      ]
     },
     "metadata": {},
     "output_type": "display_data"
    },
    {
     "data": {
      "application/vnd.jupyter.widget-view+json": {
       "model_id": "1a9cfa406395405ba2eada87b21a2c42",
       "version_major": 2,
       "version_minor": 0
      },
      "text/plain": [
       "Button(description='Send', style=ButtonStyle())"
      ]
     },
     "metadata": {},
     "output_type": "display_data"
    },
    {
     "data": {
      "application/vnd.jupyter.widget-view+json": {
       "model_id": "ac3cdcd2840e40dc9e55324ac7284c91",
       "version_major": 2,
       "version_minor": 0
      },
      "text/plain": [
       "Output()"
      ]
     },
     "metadata": {},
     "output_type": "display_data"
    }
   ],
   "source": [
    "from ipywidgets import widgets\n",
    "from IPython.display import display, clear_output\n",
    "\n",
    "# Create widgets\n",
    "text_input = widgets.Text(\n",
    "    value='',\n",
    "    placeholder='Type your message here...',\n",
    "    description='',\n",
    "    layout={'width': '500px'}\n",
    ")\n",
    "send_button = widgets.Button(description=\"Send\")\n",
    "output_area = widgets.Output()\n",
    "\n",
    "# Chat history display\n",
    "def on_send_clicked(b):\n",
    "    with output_area:\n",
    "        clear_output()\n",
    "        \n",
    "        # First, search for relevant context using ChromaDB\n",
    "        embed_fn.document_mode = False\n",
    "        \n",
    "        # Na busca do ChromaDB\n",
    "        result = db.query(\n",
    "            query_texts=[text_input.value],  # O texto da pergunta do usuário\n",
    "            n_results=2                      # Número de documentos mais relevantes a retornar\n",
    "        )\n",
    "        \n",
    "        context = \"\\n\".join(result[\"documents\"][0])  # Join relevant passages\n",
    "        \n",
    "        # Combine user question with context\n",
    "        augmented_query = f\"\"\"\n",
    "        Contexto: {context} # Documentos relevantes encontrados\n",
    "        \n",
    "        Pergunta do usuário: {text_input.value} # Pergunta original\n",
    "        \n",
    "        Por favor, responda à pergunta usando as informações do contexto acima.\n",
    "        \"\"\"\n",
    "        \n",
    "        # Send augmented query to chat\n",
    "        response = chat.send_message(augmented_query)\n",
    "        \n",
    "        # Display interaction\n",
    "        print(f\"You: {text_input.value}\")\n",
    "        print(f\"Assistant: {response.text}\\n\")\n",
    "        text_input.value = ''  # Clear input\n",
    "\n",
    "send_button.on_click(on_send_clicked)\n",
    "\n",
    "# Display interface\n",
    "display(text_input, send_button, output_area)"
   ]
  },
  {
   "cell_type": "code",
   "execution_count": 64,
   "metadata": {},
   "outputs": [
    {
     "name": "stdout",
     "output_type": "stream",
     "text": [
      "[parts {\n",
      "  text: \"Hello\"\n",
      "}\n",
      "role: \"user\"\n",
      ", parts {\n",
      "  text: \"Great to meet you. What would you like to know?\"\n",
      "}\n",
      "role: \"model\"\n",
      ", parts {\n",
      "  text: \"\\n        Contexto: CaracterÃ­sticas\\n O municÃ­pio de ChÃ¡cara/M.G. localiza-se no sudeste da Zona da Mata Mineira, na MicroregiÃ£o de Juiz de Fora, sendo o centro urbano localizado em um vale recortado pelo cÃ³rrego SÃ£o SebastiÃ£o, cuja denominaÃ§Ã£o nos remete ao padroeiro deste municÃ­pio. A localizaÃ§Ã£o geogrÃ¡fica da sede municipal, a 21Â° 40â 19â S e 43Â° 13â 19â O, a aproximadamente 15 quilÃ´metros de Juiz de Fora, Ã© privilegiada em relaÃ§Ã£o a importantes capitais como o Rio de Janeiro e Belo Horizonte, alÃ©m de outros centros urbanos como Coronel Pacheco/M.G. e GoianÃ¡/M.G.. Com Ã¡rea de 152,88 quilÃ´metros quadrados e altitudes que variam entre 639 metros na foz do CÃ³rrego Ãgua Limpa e 1023 metros na nascente do RibeirÃ£o das Rosas, ChÃ¡cara tem como municÃ­pios limÃ­trofes: Goiana ao norte, Coronel Pacheco a noroeste, Juiz de Fora a oeste, Bicas a sudeste e SÃ£o JoÃ£o Nepomuceno a nordeste. O municÃ­pio Ã© um dos integrantes da AssociaÃ§Ã£o dos MunicÃ­pios da Micro-RegiÃ£o do Vale do Paraibuna â AMPAR, com os acessos rodoviÃ¡rios feitos pelas rodovias estadual MG-353 e federal BR-040, ambas a partir de Juiz de Fora, alÃ©m de itinerÃ¡rios atravÃ©s de estradas municipais, inclusive com ligaÃ§Ã£o direta atÃ© a BR-267.\\n A populaÃ§Ã£o de ChÃ¡cara, Ã© de 2.792 habitantes, de acordo com o I.B.G.E., senso de 2010, sendo que destes, 1.903 moram na Zona Urbana e 889 moram na Zona Rural. JÃ¡ a populaÃ§Ã£o residente por sexo Ã© em maior nÃºmero masculina, 1.410 homens e 1.382 mulheres. Ainda de acordo com o censo de 2010, quando ao Ãndice de Desenvolvimento Humano Municipal (IDH-M), este equivale ao de MunicÃ­pios com IDH mÃ©dio, ou seja, com um IDH igual a 0,664. Dentre os fatores que contribuÃ­ram para este Ã­ndice, a educaÃ§Ã£o Ã© destaque passando o IDH-M em 2000 de 0,373 para IDH-M em 2010 de 0,512.\\n Como em outros municÃ­pios da regiÃ£o, na atualidade, as proporÃ§Ãµes e a dinÃ¢mica da populaÃ§Ã£o urbana e rural sÃ£o muito diferentes, com decrÃ©scimo acentuado desta Ãºltima, particularmente a partir dos anos 70. Acrescido a este fato, vale mencionar que, nos Ãºltimos anos, o municÃ­pio teve uma progressiva reduÃ§Ã£o populacional como ressaltado inicialmente. Entretanto, novos empreendimentos como o Colorado, que inserem uma dinÃ¢mica urbanizada no contexto rural, mesmo sem a dotaÃ§Ã£o de infraestruturas, pode ser um componente atrativo para populaÃ§Ãµes.\\n A organizaÃ§Ã£o polÃ­tico-administrativa do MunicÃ­pio compÃµe-se da Sede Municipal caracterizada pelo centro urbano concentrado, numa posiÃ§Ã£o relativamente central, como mencionado e oito regiÃµes com lugarejos. Ao norte, temos SÃ£o JosÃ© do CÃ¡gado e Tabocas; a noroeste SÃ£o Fidelis, Santana e outros lugarejos como Ãgua Limpa, Barra, Boa Vista, Durandet, Pinheiros; a leste Campo Belo, ao sul, Morro Vermelho, a sudoeste ChÃ£o Frio (Marmelo) com os lugarejos de Sossego e Vargem Alegre, a oeste, Mato Virgem com os lugarejos de Araras, Aracaju e Roncador. Estas regiÃµes nÃ£o possuem perÃ­metro delimitado e o fato de cada uma destas ter possuÃ­do escolas estaduais contribuiu para a regionalizaÃ§Ã£o da Ã¡rea rural. O perÃ­metro urbano conforme utilizado pelo Censo 2000 foi delimitado da seguinte forma â...do ponto inicial segue pela rua Nicolau Falci, rua JosÃ© GonÃ§alves Pinto, rua Antonio Duque, rua Coronel Onofre Augusto de Paula, estrada para SÃ£o JoÃ£o Nepomuceno, sobre a encosta passando pelos fundos dos lotes das ruas JosÃ© Portes da Silva e Antonio Pereira da Silva (ambas inclusive), atravessa a estrada para SÃ£o Fidelis continua em reta atÃ© um ponto fronteirro ao canteiro direito do campo de futebol (inclusive), segue por outra reta, formando um Ã¢ngulo de 90Â° atÃ© o inÃ­cio da rua Coronel Onofre Augusto de Paula, segue por esta atÃ© o ponto inicial.â Este perÃ­metro foi alterado, tendo sido redefinido a partir de marco na praÃ§a central com raio de dois quilÃ´metros abrangendo o atual perÃ­metro urbano.\\nChÃ¡cara surgiu como povoado, em 1863, na fazenda da Cachoeira, de propriedade de Severino Dias Tostes. Ali foi passada no dia 10 de janeiro daquele ano, a escritura de doaÃ§Ã£o de cinco alqueires de terras, no valor de cento e cinqÃ¼enta contos de rÃ©is, feita por Iria Maria da Silva para a construÃ§Ã£o do PatrimÃ´nio da Capela de SÃ£o SebastiÃ£o. Serviu como escrivÃ£o no ato, o Senhor Francisco Delgado Pinto, assinando a rodo da doadora que nÃ£o sabia escrever, o cidadÃ£o AntÃ´nio JosÃ© Duque e, como testemunhas, os senhores AntÃ´nio Henrique Barbosa, Joaquim AntÃ´nio da Silva, AntÃ´nio JosÃ© Fonseca Sobrinho, Manoel AntÃ´nio da Fonseca, Romualdo Vieira e AcÃ¡cio da Costa Pinto. Ao redor da capela desenvolveu-se o povoado que, poucos anos depois, isto Ã©, em 1870, foi elevado Ã  categoria de distrito de paz. E trÃªs anos mais tarde, foi criado o distrito policial. A lei nÂº 3276, de 30 de outubro de 1884, elevou o distrito Ã  condiÃ§Ã£o de freguesia. A divisÃ£o administrativa do Estado, em 1962, criou o municÃ­pio de ChÃ¡cara, que foi oficialmente instalada em 1Âº de marÃ§o de 1963. Anualmente em janeiro a cidade promove festa em homenagem ao padroeiro SÃ£o SebastiÃ£o, alÃ©m do carnaval, um dos maiores eventos culturais da cidade, mantendo a tradiÃ§Ã£o dos concurso dos mascarados, trazendo para a cidade nesta Ã©poca turistas de vÃ¡rias regiÃµes. E a ExposiÃ§Ã£o AgropecuÃ¡ria e o Torneio Leiteiro, geralmente no final do mÃªs de agosto, e reconhecido como um dos melhores rodeio da regiÃ£o. A histÃ³ria de ChÃ¡cara registra a presenÃ§a de importantes personalidades como CÃ¢ndido Teixeira Tostes, BarÃ£o de Catas Altas, Severino Dias Tostes, Teodorico Ribeiro de Assis, Dr. JosÃ© ProcÃ³pio Teixeira, Padre Leopoldo Caglianoni (primeiro vigÃ¡rio), Dr. JoÃ£o D`Avila, Cel Agenor Augusto Sampaio, CustÃ³dio Augusto de Resende e outros.\\n        \\n        Pergunta do usuário: Me fale sobre a cidade de chácara em Minas Gerais\\n        \\n        Por favor, responda à pergunta usando as informações do contexto acima.\\n        \"\n",
      "}\n",
      "role: \"user\"\n",
      ", parts {\n",
      "  text: \"Chácara, localizada no sudeste da Zona da Mata Mineira, em Minas Gerais, é um município situado em um vale cortado pelo Córrego São Sebastião, seu padroeiro.  A cidade fica a aproximadamente 15 quilômetros de Juiz de Fora, com uma localização privilegiada próxima a importantes centros urbanos como Rio de Janeiro e Belo Horizonte.\\n\\nCom uma área de 152,88 quilômetros quadrados e altitudes que variam entre 639 e 1023 metros, Chácara limita-se com Goiana (norte), Coronel Pacheco (noroeste), Juiz de Fora (oeste), Bicas (sudeste) e São João Nepomuceno (nordeste). O acesso é feito pelas rodovias MG-353 e BR-040, a partir de Juiz de Fora, além de estradas municipais que conectam a BR-267.\\n\\nDe acordo com o IBGE (2010), a população é de 2.792 habitantes, sendo 1.903 na zona urbana e 889 na zona rural, com maior número de homens (1.410) do que mulheres (1.382). O Índice de Desenvolvimento Humano Municipal (IDH-M) é classificado como médio (0,664 em 2010), com destaque para o progresso na educação (de 0,373 em 2000 para 0,512 em 2010).  A população rural tem diminuído significativamente desde os anos 70, embora novos empreendimentos como o Colorado possam atrair moradores.\\n\\nA área urbana concentra-se na sede municipal, e oito regiões rurais com pequenos povoados completam a organização político-administrativa: São José do Cágado e Tabocas (norte); São Fidelis, Santana, Águas Limpas, Barra, Boa Vista, Durandet, Pinheiros (noroeste); Campo Belo (leste); Morro Vermelho (sul); Chão Frio (Marmelo), com Sossego e Vargem Alegre (sudoeste); e Mato Virgem, com Araras, Aracaju e Roncador (oeste). A delimitação do perímetro urbano sofreu alterações, sendo atualmente definido por um raio de dois quilômetros a partir da praça central.\\n\\nFundada em 1863 na Fazenda da Cachoeira, Chácara surgiu ao redor da Capela de São Sebastião. Elevada a distrito de paz em 1870 e distrito policial três anos depois, tornou-se freguesia em 1884 e, finalmente, município em 1963.  A cidade celebra anualmente festas em homenagem a São Sebastião (janeiro) e o carnaval, que inclui tradicionais concursos de mascarados.  A Exposição Agropecuária e o Torneio Leiteiro (final de agosto) são eventos importantes, conhecidos por seu bom rodeio.  Ao longo de sua história, Chácara teve a presença de figuras importantes como Cândido Teixeira Tostes (Barão de Catas Altas) e outras personalidades.\\n\"\n",
      "}\n",
      "role: \"model\"\n",
      ", parts {\n",
      "  text: \"\\n        Contexto: Aqui estÃ¡ o horÃ¡rio de Ã´nibus de Juiz de Fora para ChÃ¡cara:\\n De segunda a sexta:\\n Juiz de Fora para ChÃ¡cara\\n 06:20, 07:30, 10:00, 12:15, 13:30, 15:00, 16:15, 17:20, 18:30, 20:00, 22:45\\n \\n ChÃ¡cara para Juiz de Fora\\n 05:30, 06:30, 07:30, 09:00, 11:15, 13:15, 14:45, 16:00, 17:10, 18:30, 21:45\\n \\n SÃ¡bados:\\n Juiz de Fora para ChÃ¡cara\\n 07:30, 10:00, 12:15, 14:00, 16:00, 18:15, 20:00\\n \\n ChÃ¡cara para Juiz de Fora\\n 06:30, 09:00, 12:15, 14:00, 16:00, 17:10, 19:15\\n \\n Domingos e feriados:\\n Juiz de Fora para ChÃ¡cara\\n 07:30, 10:00, 12:15, 14:00, 16:00, 18:15, 20:00\\n \\n ChÃ¡cara para Juiz de Fora\\n 06:30, 09:00, 12:15, 14:00, 16:00, 17:10, 19:15, 21:00\\nCaracterÃ­sticas\\n O municÃ­pio de ChÃ¡cara/M.G. localiza-se no sudeste da Zona da Mata Mineira, na MicroregiÃ£o de Juiz de Fora, sendo o centro urbano localizado em um vale recortado pelo cÃ³rrego SÃ£o SebastiÃ£o, cuja denominaÃ§Ã£o nos remete ao padroeiro deste municÃ­pio. A localizaÃ§Ã£o geogrÃ¡fica da sede municipal, a 21Â° 40â 19â S e 43Â° 13â 19â O, a aproximadamente 15 quilÃ´metros de Juiz de Fora, Ã© privilegiada em relaÃ§Ã£o a importantes capitais como o Rio de Janeiro e Belo Horizonte, alÃ©m de outros centros urbanos como Coronel Pacheco/M.G. e GoianÃ¡/M.G.. Com Ã¡rea de 152,88 quilÃ´metros quadrados e altitudes que variam entre 639 metros na foz do CÃ³rrego Ãgua Limpa e 1023 metros na nascente do RibeirÃ£o das Rosas, ChÃ¡cara tem como municÃ­pios limÃ­trofes: Goiana ao norte, Coronel Pacheco a noroeste, Juiz de Fora a oeste, Bicas a sudeste e SÃ£o JoÃ£o Nepomuceno a nordeste. O municÃ­pio Ã© um dos integrantes da AssociaÃ§Ã£o dos MunicÃ­pios da Micro-RegiÃ£o do Vale do Paraibuna â AMPAR, com os acessos rodoviÃ¡rios feitos pelas rodovias estadual MG-353 e federal BR-040, ambas a partir de Juiz de Fora, alÃ©m de itinerÃ¡rios atravÃ©s de estradas municipais, inclusive com ligaÃ§Ã£o direta atÃ© a BR-267.\\n A populaÃ§Ã£o de ChÃ¡cara, Ã© de 2.792 habitantes, de acordo com o I.B.G.E., senso de 2010, sendo que destes, 1.903 moram na Zona Urbana e 889 moram na Zona Rural. JÃ¡ a populaÃ§Ã£o residente por sexo Ã© em maior nÃºmero masculina, 1.410 homens e 1.382 mulheres. Ainda de acordo com o censo de 2010, quando ao Ãndice de Desenvolvimento Humano Municipal (IDH-M), este equivale ao de MunicÃ­pios com IDH mÃ©dio, ou seja, com um IDH igual a 0,664. Dentre os fatores que contribuÃ­ram para este Ã­ndice, a educaÃ§Ã£o Ã© destaque passando o IDH-M em 2000 de 0,373 para IDH-M em 2010 de 0,512.\\n Como em outros municÃ­pios da regiÃ£o, na atualidade, as proporÃ§Ãµes e a dinÃ¢mica da populaÃ§Ã£o urbana e rural sÃ£o muito diferentes, com decrÃ©scimo acentuado desta Ãºltima, particularmente a partir dos anos 70. Acrescido a este fato, vale mencionar que, nos Ãºltimos anos, o municÃ­pio teve uma progressiva reduÃ§Ã£o populacional como ressaltado inicialmente. Entretanto, novos empreendimentos como o Colorado, que inserem uma dinÃ¢mica urbanizada no contexto rural, mesmo sem a dotaÃ§Ã£o de infraestruturas, pode ser um componente atrativo para populaÃ§Ãµes.\\n A organizaÃ§Ã£o polÃ­tico-administrativa do MunicÃ­pio compÃµe-se da Sede Municipal caracterizada pelo centro urbano concentrado, numa posiÃ§Ã£o relativamente central, como mencionado e oito regiÃµes com lugarejos. Ao norte, temos SÃ£o JosÃ© do CÃ¡gado e Tabocas; a noroeste SÃ£o Fidelis, Santana e outros lugarejos como Ãgua Limpa, Barra, Boa Vista, Durandet, Pinheiros; a leste Campo Belo, ao sul, Morro Vermelho, a sudoeste ChÃ£o Frio (Marmelo) com os lugarejos de Sossego e Vargem Alegre, a oeste, Mato Virgem com os lugarejos de Araras, Aracaju e Roncador. Estas regiÃµes nÃ£o possuem perÃ­metro delimitado e o fato de cada uma destas ter possuÃ­do escolas estaduais contribuiu para a regionalizaÃ§Ã£o da Ã¡rea rural. O perÃ­metro urbano conforme utilizado pelo Censo 2000 foi delimitado da seguinte forma â...do ponto inicial segue pela rua Nicolau Falci, rua JosÃ© GonÃ§alves Pinto, rua Antonio Duque, rua Coronel Onofre Augusto de Paula, estrada para SÃ£o JoÃ£o Nepomuceno, sobre a encosta passando pelos fundos dos lotes das ruas JosÃ© Portes da Silva e Antonio Pereira da Silva (ambas inclusive), atravessa a estrada para SÃ£o Fidelis continua em reta atÃ© um ponto fronteirro ao canteiro direito do campo de futebol (inclusive), segue por outra reta, formando um Ã¢ngulo de 90Â° atÃ© o inÃ­cio da rua Coronel Onofre Augusto de Paula, segue por esta atÃ© o ponto inicial.â Este perÃ­metro foi alterado, tendo sido redefinido a partir de marco na praÃ§a central com raio de dois quilÃ´metros abrangendo o atual perÃ­metro urbano.\\n        \\n        Pergunta do usuário: Qual o horário de ônibus de chácara para juiz de fora\\n        \\n        Por favor, responda à pergunta usando as informações do contexto acima.\\n        \"\n",
      "}\n",
      "role: \"user\"\n",
      ", parts {\n",
      "  text: \"O horário dos ônibus de Chácara para Juiz de Fora é o seguinte:\\n\\n**Dias de semana (segunda a sexta):** 05:30, 06:30, 07:30, 09:00, 11:15, 13:15, 14:45, 16:00, 17:10, 18:30, 21:45\\n\\n**Sábados:** 06:30, 09:00, 12:15, 14:00, 16:00, 17:10, 19:15\\n\\n**Domingos e feriados:** 06:30, 09:00, 12:15, 14:00, 16:00, 17:10, 19:15, 21:00\\n\"\n",
      "}\n",
      "role: \"model\"\n",
      ", parts {\n",
      "  text: \"\\n        Contexto: Aqui estÃ¡ o horÃ¡rio de Ã´nibus de Juiz de Fora para ChÃ¡cara:\\n De segunda a sexta:\\n Juiz de Fora para ChÃ¡cara\\n 06:20, 07:30, 10:00, 12:15, 13:30, 15:00, 16:15, 17:20, 18:30, 20:00, 22:45\\n \\n ChÃ¡cara para Juiz de Fora\\n 05:30, 06:30, 07:30, 09:00, 11:15, 13:15, 14:45, 16:00, 17:10, 18:30, 21:45\\n \\n SÃ¡bados:\\n Juiz de Fora para ChÃ¡cara\\n 07:30, 10:00, 12:15, 14:00, 16:00, 18:15, 20:00\\n \\n ChÃ¡cara para Juiz de Fora\\n 06:30, 09:00, 12:15, 14:00, 16:00, 17:10, 19:15\\n \\n Domingos e feriados:\\n Juiz de Fora para ChÃ¡cara\\n 07:30, 10:00, 12:15, 14:00, 16:00, 18:15, 20:00\\n \\n ChÃ¡cara para Juiz de Fora\\n 06:30, 09:00, 12:15, 14:00, 16:00, 17:10, 19:15, 21:00\\nCaracterÃ­sticas\\n O municÃ­pio de ChÃ¡cara/M.G. localiza-se no sudeste da Zona da Mata Mineira, na MicroregiÃ£o de Juiz de Fora, sendo o centro urbano localizado em um vale recortado pelo cÃ³rrego SÃ£o SebastiÃ£o, cuja denominaÃ§Ã£o nos remete ao padroeiro deste municÃ­pio. A localizaÃ§Ã£o geogrÃ¡fica da sede municipal, a 21Â° 40â 19â S e 43Â° 13â 19â O, a aproximadamente 15 quilÃ´metros de Juiz de Fora, Ã© privilegiada em relaÃ§Ã£o a importantes capitais como o Rio de Janeiro e Belo Horizonte, alÃ©m de outros centros urbanos como Coronel Pacheco/M.G. e GoianÃ¡/M.G.. Com Ã¡rea de 152,88 quilÃ´metros quadrados e altitudes que variam entre 639 metros na foz do CÃ³rrego Ãgua Limpa e 1023 metros na nascente do RibeirÃ£o das Rosas, ChÃ¡cara tem como municÃ­pios limÃ­trofes: Goiana ao norte, Coronel Pacheco a noroeste, Juiz de Fora a oeste, Bicas a sudeste e SÃ£o JoÃ£o Nepomuceno a nordeste. O municÃ­pio Ã© um dos integrantes da AssociaÃ§Ã£o dos MunicÃ­pios da Micro-RegiÃ£o do Vale do Paraibuna â AMPAR, com os acessos rodoviÃ¡rios feitos pelas rodovias estadual MG-353 e federal BR-040, ambas a partir de Juiz de Fora, alÃ©m de itinerÃ¡rios atravÃ©s de estradas municipais, inclusive com ligaÃ§Ã£o direta atÃ© a BR-267.\\n A populaÃ§Ã£o de ChÃ¡cara, Ã© de 2.792 habitantes, de acordo com o I.B.G.E., senso de 2010, sendo que destes, 1.903 moram na Zona Urbana e 889 moram na Zona Rural. JÃ¡ a populaÃ§Ã£o residente por sexo Ã© em maior nÃºmero masculina, 1.410 homens e 1.382 mulheres. Ainda de acordo com o censo de 2010, quando ao Ãndice de Desenvolvimento Humano Municipal (IDH-M), este equivale ao de MunicÃ­pios com IDH mÃ©dio, ou seja, com um IDH igual a 0,664. Dentre os fatores que contribuÃ­ram para este Ã­ndice, a educaÃ§Ã£o Ã© destaque passando o IDH-M em 2000 de 0,373 para IDH-M em 2010 de 0,512.\\n Como em outros municÃ­pios da regiÃ£o, na atualidade, as proporÃ§Ãµes e a dinÃ¢mica da populaÃ§Ã£o urbana e rural sÃ£o muito diferentes, com decrÃ©scimo acentuado desta Ãºltima, particularmente a partir dos anos 70. Acrescido a este fato, vale mencionar que, nos Ãºltimos anos, o municÃ­pio teve uma progressiva reduÃ§Ã£o populacional como ressaltado inicialmente. Entretanto, novos empreendimentos como o Colorado, que inserem uma dinÃ¢mica urbanizada no contexto rural, mesmo sem a dotaÃ§Ã£o de infraestruturas, pode ser um componente atrativo para populaÃ§Ãµes.\\n A organizaÃ§Ã£o polÃ­tico-administrativa do MunicÃ­pio compÃµe-se da Sede Municipal caracterizada pelo centro urbano concentrado, numa posiÃ§Ã£o relativamente central, como mencionado e oito regiÃµes com lugarejos. Ao norte, temos SÃ£o JosÃ© do CÃ¡gado e Tabocas; a noroeste SÃ£o Fidelis, Santana e outros lugarejos como Ãgua Limpa, Barra, Boa Vista, Durandet, Pinheiros; a leste Campo Belo, ao sul, Morro Vermelho, a sudoeste ChÃ£o Frio (Marmelo) com os lugarejos de Sossego e Vargem Alegre, a oeste, Mato Virgem com os lugarejos de Araras, Aracaju e Roncador. Estas regiÃµes nÃ£o possuem perÃ­metro delimitado e o fato de cada uma destas ter possuÃ­do escolas estaduais contribuiu para a regionalizaÃ§Ã£o da Ã¡rea rural. O perÃ­metro urbano conforme utilizado pelo Censo 2000 foi delimitado da seguinte forma â...do ponto inicial segue pela rua Nicolau Falci, rua JosÃ© GonÃ§alves Pinto, rua Antonio Duque, rua Coronel Onofre Augusto de Paula, estrada para SÃ£o JoÃ£o Nepomuceno, sobre a encosta passando pelos fundos dos lotes das ruas JosÃ© Portes da Silva e Antonio Pereira da Silva (ambas inclusive), atravessa a estrada para SÃ£o Fidelis continua em reta atÃ© um ponto fronteirro ao canteiro direito do campo de futebol (inclusive), segue por outra reta, formando um Ã¢ngulo de 90Â° atÃ© o inÃ­cio da rua Coronel Onofre Augusto de Paula, segue por esta atÃ© o ponto inicial.â Este perÃ­metro foi alterado, tendo sido redefinido a partir de marco na praÃ§a central com raio de dois quilÃ´metros abrangendo o atual perÃ­metro urbano.\\n        \\n        Pergunta do usuário: Qual o horário de ônibus de juiz de fora para chácara aos domingos na parte da manhã?\\n        \\n        Por favor, responda à pergunta usando as informações do contexto acima.\\n        \"\n",
      "}\n",
      "role: \"user\"\n",
      ", parts {\n",
      "  text: \"A tabela de horários indica que aos domingos, os ônibus de Juiz de Fora para Chácara saem às 7h30 e às 10h00 da manhã.\\n\"\n",
      "}\n",
      "role: \"model\"\n",
      "]\n"
     ]
    }
   ],
   "source": [
    "print(chat.history)"
   ]
  },
  {
   "cell_type": "markdown",
   "metadata": {},
   "source": [
    "## Important Notes:"
   ]
  },
  {
   "cell_type": "markdown",
   "metadata": {},
   "source": [
    "Aqui estamos usando um vector dabase para fazer pesquisas de informações relevantes. No entanto, se eu quizesse passar as informações de texto direto para o conhecimento da generative ia, como ficaria? Comparando as duas formas, quais são os impactos?"
   ]
  },
  {
   "cell_type": "markdown",
   "metadata": {},
   "source": [
    "Ótima pergunta! Vou mostrar as duas abordagens e comparar seus impactos:\n",
    "Abordagem Direta (Passando todo o conhecimento no system prompt):"
   ]
  },
  {
   "cell_type": "markdown",
   "metadata": {},
   "source": [
    "### Abordagem Direta (Passando todo o conhecimento no system prompt):"
   ]
  },
  {
   "cell_type": "code",
   "execution_count": 63,
   "metadata": {},
   "outputs": [],
   "source": [
    "# Concatenar todos os documentos\n",
    "all_knowledge = \"\\n\".join(documents)\n",
    "\n",
    "# System message com conhecimento embutido\n",
    "SYSTEM_MESSAGE_WITH_KNOWLEDGE = f'''Você é um agente especializado em dar informações sobre a cidade Chácara em Minas Gerais.\n",
    "Você é um agente que responde sobre questões históricas, culturais e geografia.\n",
    "\n",
    "Aqui está seu conhecimento sobre Chácara:\n",
    "{all_knowledge}\n",
    "\n",
    "Você não responderá questões que não sejam sobre chácara e caso alguém pergunte, você responderá educadamente que não pode dar estas informações.\n",
    "'''\n",
    "\n",
    "direct_model = genai.GenerativeModel(\n",
    "    model_name=\"gemini-1.5-flash-latest\",\n",
    "    system_instruction=SYSTEM_MESSAGE_WITH_KNOWLEDGE\n",
    ")\n",
    "\n",
    "# Função de chat simplificada\n",
    "def on_send_clicked_direct(b):\n",
    "    with output_area:\n",
    "        clear_output()\n",
    "        response = chat.send_message(text_input.value)\n",
    "        print(f\"You: {text_input.value}\")\n",
    "        print(f\"Assistant: {response.text}\\n\")\n",
    "        text_input.value = ''\n",
    "        "
   ]
  },
  {
   "cell_type": "markdown",
   "metadata": {},
   "source": [
    "### Abordagem com Vector Database (RAG) - como está no seu código atual:\n"
   ]
  },
  {
   "cell_type": "code",
   "execution_count": null,
   "metadata": {},
   "outputs": [],
   "source": [
    "def on_send_clicked_rag(b):\n",
    "    with output_area:\n",
    "        clear_output()\n",
    "        result = db.query(\n",
    "            query_texts=[text_input.value],\n",
    "            n_results=2\n",
    "        )\n",
    "        context = \"\\n\".join(result[\"documents\"][0])\n",
    "        \n",
    "        augmented_query = f\"\"\"\n",
    "        Contexto: {context}\n",
    "        Pergunta do usuário: {text_input.value}\n",
    "        \"\"\"\n",
    "        response = chat.send_message(augmented_query)\n",
    "        print(f\"You: {text_input.value}\")\n",
    "        print(f\"Assistant: {response.text}\\n\")"
   ]
  },
  {
   "cell_type": "markdown",
   "metadata": {},
   "source": [
    "Comparação dos Impactos:\n",
    "1. Limitações de Contexto:\n",
    "\n",
    "Abordagem Direta:\n",
    "- ❌ Limitada pelo tamanho máximo do contexto do modelo\n",
    "- ❌ Todo o conhecimento compete pelo mesmo espaço de contexto\n",
    "\n",
    "Vector DB/RAG:\n",
    "- ✅ Pode lidar com grandes volumes de dados\n",
    "- ✅ Recupera apenas informações relevantes\n",
    "\n",
    "2. Precisão das Respostas:\n",
    "\n",
    "Abordagem Direta:\n",
    "- ✅ Acesso a todo o conhecimento de uma vez\n",
    "- ❌ Pode misturar informações irrelevantes\n",
    "\n",
    "Vector DB/RAG:\n",
    "- ✅ Respostas mais focadas e precisas\n",
    "- ✅ Melhor em encontrar informações específicas\n",
    "\n",
    "3. Desempenho:\n",
    "\n",
    "Abordagem Direta:\n",
    "- ✅ Mais rápida (sem busca)\n",
    "- ❌ Pode ser mais lenta para processar todo o contexto\n",
    "\n",
    "Vector DB/RAG:\n",
    "- ❌ Overhead da busca vetorial\n",
    "- ✅ Processamento mais eficiente do contexto relevante\n",
    "\n",
    "4. Manutenção e Atualização:\n",
    "\n",
    "Abordagem Direta:\n",
    "- ❌ Precisa reinicializar o modelo para atualizar conhecimento\n",
    "- ❌ Mais difícil de gerenciar\n",
    "\n",
    "Vector DB/RAG:\n",
    "- ✅ Fácil adicionar/remover documentos\n",
    "- ✅ Atualizações dinâmicas\n",
    "\n",
    "5. Escalabilidade:\n",
    "\n",
    "Abordagem Direta:\n",
    "- ❌ Não escala bem com mais dados\n",
    "- ❌ Limitada pelo tamanho do contexto\n",
    "\n",
    "Vector DB/RAG:\n",
    "- ✅ Altamente escalável\n",
    "- ✅ Pode crescer conforme necessário\n",
    "\n",
    "Recomendação:\n",
    "\n",
    "Para bases de conhecimento pequenas (< 2000 tokens): Abordagem Direta pode ser mais simples\n",
    "Para bases maiores ou que precisam de atualizações frequentes: RAG é mais adequado\n",
    "No seu caso específico, como você está trabalhando com documentos sobre Chácara e pode precisar atualizar ou adicionar mais informações no futuro, a abordagem RAG que você está usando é provavelmente a melhor escolha."
   ]
  }
 ],
 "metadata": {
  "kernelspec": {
   "display_name": "Python 3",
   "language": "python",
   "name": "python3"
  },
  "language_info": {
   "codemirror_mode": {
    "name": "ipython",
    "version": 3
   },
   "file_extension": ".py",
   "mimetype": "text/x-python",
   "name": "python",
   "nbconvert_exporter": "python",
   "pygments_lexer": "ipython3",
   "version": "3.9.21"
  }
 },
 "nbformat": 4,
 "nbformat_minor": 2
}
